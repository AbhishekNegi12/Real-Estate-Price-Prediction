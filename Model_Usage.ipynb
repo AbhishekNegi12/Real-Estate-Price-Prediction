{
 "cells": [
  {
   "cell_type": "code",
   "execution_count": 1,
   "id": "998a83ac-2a38-42d3-a249-8adb5f998446",
   "metadata": {},
   "outputs": [],
   "source": [
    "import numpy as np\n",
    "from joblib import dump,load\n",
    "model = load('RealEstate.joblib')"
   ]
  },
  {
   "cell_type": "code",
   "execution_count": 2,
   "id": "993f5559-6892-4ce7-9f00-d58ee9940c1b",
   "metadata": {},
   "outputs": [
    {
     "data": {
      "text/plain": [
       "array([22.582])"
      ]
     },
     "execution_count": 2,
     "metadata": {},
     "output_type": "execute_result"
    }
   ],
   "source": [
    "features = np.array([[-0.43942006,  3.12628155, -1.12165014, -0.27288841, -1.42262747,\n",
    "       -0.23979304, -1.31238772,  2.61111401, -1.0016859 , -0.5778192 ,\n",
    "       -0.97491834,  0.41164221, -0.86091034]])\n",
    "model.predict(features)"
   ]
  },
  {
   "cell_type": "code",
   "execution_count": 3,
   "id": "ac6555dd-bf82-4c37-8941-63a337466d75",
   "metadata": {},
   "outputs": [
    {
     "data": {
      "text/plain": [
       "array([16.885])"
      ]
     },
     "execution_count": 3,
     "metadata": {},
     "output_type": "execute_result"
    }
   ],
   "source": [
    "features1 = np.array([[ 0.15682292, -0.4898311 ,  0.98336806, -0.27288841,  0.47919371,\n",
    "        0.28867984,  0.87020968, -0.68730678,  1.63579367,  1.50571521,\n",
    "        0.81196637,  0.44624347,  0.81480158]])\n",
    "model.predict(features1)"
   ]
  },
  {
   "cell_type": "markdown",
   "id": "6e2016d3-b2fd-4ed4-9035-83a63f9743e4",
   "metadata": {},
   "source": [
    "## Using the Model"
   ]
  },
  {
   "cell_type": "code",
   "execution_count": null,
   "id": "9c431b67-e840-45a4-b471-56a6104ef808",
   "metadata": {},
   "outputs": [],
   "source": []
  }
 ],
 "metadata": {
  "kernelspec": {
   "display_name": "Python 3 (ipykernel)",
   "language": "python",
   "name": "python3"
  },
  "language_info": {
   "codemirror_mode": {
    "name": "ipython",
    "version": 3
   },
   "file_extension": ".py",
   "mimetype": "text/x-python",
   "name": "python",
   "nbconvert_exporter": "python",
   "pygments_lexer": "ipython3",
   "version": "3.12.4"
  }
 },
 "nbformat": 4,
 "nbformat_minor": 5
}
